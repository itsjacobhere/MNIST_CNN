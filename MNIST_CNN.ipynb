{
 "cells": [
  {
   "cell_type": "code",
   "execution_count": 1,
   "metadata": {},
   "outputs": [],
   "source": [
    "import numpy as np\n",
    "import pandas as pd\n",
    "import seaborn as sns\n",
    "import matplotlib.pyplot as plt"
   ]
  },
  {
   "cell_type": "code",
   "execution_count": 2,
   "metadata": {},
   "outputs": [],
   "source": [
    "train = pd.read_csv('digit-recognizer/train.csv')\n",
    "test = pd.read_csv('digit-recognizer/test.csv')"
   ]
  },
  {
   "cell_type": "code",
   "execution_count": 3,
   "metadata": {},
   "outputs": [],
   "source": [
    "from sklearn.model_selection import train_test_split\n",
    "from sklearn.preprocessing import normalize\n",
    "\n",
    "x, y = np.array(normalize(train.iloc[:,1:])), np.array(train.iloc[:,0])\n",
    "x_train, x_test, y_train, y_test = train_test_split(x, y, test_size=0.20)\n",
    "xy_train = np.hstack((x_train,y_train[:,None]))"
   ]
  },
  {
   "cell_type": "code",
   "execution_count": 4,
   "metadata": {},
   "outputs": [],
   "source": [
    "from keras.preprocessing.image import ImageDataGenerator,array_to_img, img_to_array, load_img\n",
    "\n",
    "datagen = ImageDataGenerator( \n",
    "        rotation_range = 30, \n",
    "        shear_range = 0.2, \n",
    "        zoom_range = 0.2, \n",
    "        horizontal_flip = False, \n",
    "        brightness_range = (0.5, 1.5),\n",
    "        width_shift_range=0.1, \n",
    "        height_shift_range=0.1)\n",
    "\n",
    "def augment_images(x, multiplier = 5):\n",
    "    new_imgs = []\n",
    "    i = 0\n",
    "    for batch in datagen.flow(x, batch_size = 1):\n",
    "        i += 1\n",
    "        new_imgs.append(batch)\n",
    "        if i >= multiplier:\n",
    "            break\n",
    "            \n",
    "    return np.vstack(new_imgs)"
   ]
  },
  {
   "cell_type": "code",
   "execution_count": 5,
   "metadata": {},
   "outputs": [
    {
     "name": "stderr",
     "output_type": "stream",
     "text": [
      "100%|██████████| 33600/33600 [01:40<00:00, 335.67it/s]\n"
     ]
    }
   ],
   "source": [
    "# augment images\n",
    "\n",
    "from tqdm import tqdm\n",
    "\n",
    "new_data = []\n",
    "new_label = []\n",
    "mult = 10 # create 10 new images for every OG\n",
    "\n",
    "for datum in tqdm(xy_train):\n",
    "    img, label = datum[:-1].reshape(28,28), datum[-1]\n",
    "    \n",
    "    #print(img, label)\n",
    "    \n",
    "    new_x = augment_images(img.reshape(1,28,28,1), multiplier = mult)\n",
    "    new_data.append(new_x)\n",
    "    new_label.append(np.array([label for j in range(mult)]))"
   ]
  },
  {
   "cell_type": "code",
   "execution_count": 6,
   "metadata": {},
   "outputs": [
    {
     "data": {
      "text/plain": [
       "((33600, 784), (10, 28, 28, 1))"
      ]
     },
     "execution_count": 6,
     "metadata": {},
     "output_type": "execute_result"
    }
   ],
   "source": [
    "x_train.shape, new_x.shape"
   ]
  },
  {
   "cell_type": "code",
   "execution_count": 7,
   "metadata": {},
   "outputs": [],
   "source": [
    "# merge augmented data\n",
    "\n",
    "new_x = np.vstack(new_data)\n",
    "\n",
    "new_y = np.hstack(new_label)\n",
    "\n",
    "x_train = np.vstack([x_train.reshape(-1,28,28,1),new_x])\n",
    "\n",
    "y_train = np.hstack([y_train,new_y])"
   ]
  },
  {
   "cell_type": "code",
   "execution_count": 8,
   "metadata": {},
   "outputs": [
    {
     "data": {
      "text/plain": [
       "((369600, 28, 28, 1), (369600,))"
      ]
     },
     "execution_count": 8,
     "metadata": {},
     "output_type": "execute_result"
    }
   ],
   "source": [
    "x_train.shape,y_train.shape"
   ]
  },
  {
   "cell_type": "code",
   "execution_count": 9,
   "metadata": {},
   "outputs": [],
   "source": [
    "import torch\n",
    "import torch.nn as nn\n",
    "import torch.optim as optim\n",
    "from tqdm import tqdm\n",
    "\n",
    "import wandb\n",
    "from IPython.display import clear_output"
   ]
  },
  {
   "cell_type": "code",
   "execution_count": 10,
   "metadata": {},
   "outputs": [],
   "source": [
    "class cnn(nn.Module):\n",
    "    \n",
    "    def __init__(self, conv_layers = [16,32], fc_layers = [10,10], padding = 0,\n",
    "                 device = 'cpu'):\n",
    "        super(cnn, self).__init__()\n",
    "        \n",
    "        self.conv_layers = conv_layers\n",
    "        self.fc_layers = fc_layers\n",
    "        \n",
    "        self.device = device\n",
    "        if device is None:\n",
    "            self.device = torch.device('cuda' if torch.cuda.is_available() else 'cpu')\n",
    "        \n",
    "        # hard-coded dropout rate and kernel size\n",
    "        p = 0.2\n",
    "        k = 5\n",
    "        \n",
    "        self.conv_hidden = nn.ModuleList().to(self.device)\n",
    "        self.fc_hidden = nn.ModuleList().to(self.device)\n",
    "        \n",
    "        # conv architecture\n",
    "        self.conv_net_input = nn.Sequential(\n",
    "            nn.Conv2d(1,conv_layers[0],k, stride = 2, padding = padding),\n",
    "            nn.BatchNorm2d(conv_layers[0]),\n",
    "            nn.ReLU(),\n",
    "            nn.Dropout(p=p)\n",
    "        ).to(self.device)\n",
    "        \n",
    "        for i in range(len(conv_layers)-2):\n",
    "            self.conv_hidden.append(nn.Conv2d(conv_layers[i],conv_layers[i+1],k, stride = 2, padding = padding))\n",
    "            self.conv_hidden.append(nn.BatchNorm2d(conv_layers[i+1]))\n",
    "            self.conv_hidden.append(nn.ReLU())\n",
    "            self.conv_hidden.append(nn.Dropout(p=p))\n",
    "        self.conv_hidden = nn.Sequential(*self.conv_hidden).to(self.device)\n",
    "        \n",
    "        self.conv_net_output = nn.Sequential(\n",
    "            nn.Conv2d(conv_layers[-2],conv_layers[-1],k, stride = 2, padding = padding),\n",
    "            nn.BatchNorm2d(conv_layers[-1]),\n",
    "            nn.ReLU(),\n",
    "            nn.AdaptiveMaxPool2d((7,7)),\n",
    "            nn.Dropout(p=p)\n",
    "        ).to(self.device)\n",
    "        \n",
    "        # fc architecture\n",
    "        self.fc_input = nn.Sequential(\n",
    "            nn.Linear(conv_layers[-1]*7*7,fc_layers[0]),\n",
    "            nn.ReLU(),\n",
    "            nn.Dropout(p=p)\n",
    "        ).to(self.device)\n",
    "        \n",
    "        for i in range(len(fc_layers)-1):\n",
    "            self.fc_hidden.append(nn.Linear(fc_layers[i],fc_layers[i+1]))\n",
    "            self.fc_hidden.append(nn.ReLU())\n",
    "            self.fc_hidden.append(nn.Dropout(p=p))\n",
    "        self.fc_hidden = nn.Sequential(*self.fc_hidden).to(self.device)\n",
    "        \n",
    "        self.fc_output = nn.Sequential(\n",
    "            nn.Linear(fc_layers[-1],10),\n",
    "            nn.Softmax(dim = 1)\n",
    "        ).to(self.device)\n",
    "\n",
    "        # apply xavier norm and zero bias initialization\n",
    "        self.conv_net_input.apply(self.init_wandb)\n",
    "        self.conv_hidden.apply(self.init_wandb)\n",
    "        self.conv_net_output.apply(self.init_wandb)\n",
    "        \n",
    "        self.fc_input.apply(self.init_wandb)\n",
    "        self.fc_hidden.apply(self.init_wandb)\n",
    "        self.fc_output.apply(self.init_wandb)\n",
    "        \n",
    "        self.loss_fn = nn.CrossEntropyLoss()\n",
    "        self.opt = torch.optim.Adam(self.parameters(), lr = 6e-5)\n",
    "        \n",
    "    def init_wandb(self, l):\n",
    "        # inits weights and biases\n",
    "        if type(l) == nn.Linear or type(l) == nn.Conv2d:\n",
    "            nn.init.xavier_normal_(l.weight.data, gain = 0.1)\n",
    "            nn.init.zeros_(l.bias.data)\n",
    "                \n",
    "    def forward(self, x):\n",
    "        \n",
    "        if not torch.is_tensor(x):\n",
    "            x = torch.from_numpy(x).to(self.device)\n",
    "            \n",
    "        if not x.is_cuda:\n",
    "            x = x.to(self.device)\n",
    "            \n",
    "        #forward prop\n",
    "        x = x.float()\n",
    "        x = self.conv_net_input(x)\n",
    "        x = self.conv_hidden(x)\n",
    "        x = self.conv_net_output(x)\n",
    "        \n",
    "        x = x.view(x.shape[0], -1)\n",
    "        \n",
    "        x = self.fc_input(x)\n",
    "        x = self.fc_hidden(x)\n",
    "        x = self.fc_output(x)\n",
    "        return x\n",
    "    \n",
    "    def train(self, xy_train, x_test, y_test, epochs = 1000, batch_size = 10, name = 'run1'):\n",
    "        \n",
    "        # track training\n",
    "        wandb.init(project = \"digits with CNN\", \n",
    "                   name = name + '_' + str(self.conv_layers) + '_' + str(self.fc_layers))\n",
    "        \n",
    "        \n",
    "        data_loader = torch.utils.data.DataLoader(xy_train, batch_size=batch_size)\n",
    "        y_test = torch.tensor(y_test, dtype=torch.long, device=self.device)\n",
    "        \n",
    "        for i in tqdm(range(int(epochs))):\n",
    "            y_pred = self.forward(x_test.reshape(-1,1,28,28))\n",
    "            \n",
    "            for batch in data_loader: # train in batches\n",
    "                \n",
    "                x_train, y_train = batch[:,:-1].reshape(-1,1,28,28), batch[:,-1]\n",
    "                y_train = torch.tensor(y_train, dtype=torch.long, device=self.device)\n",
    "                \n",
    "                y = self.forward(x_train)\n",
    "                \n",
    "                loss = self.loss_fn(y, y_train) # compute loss\n",
    "                \n",
    "                self.opt.zero_grad() # clear grad buffers\n",
    "                loss.backward() # back prop on loss fn\n",
    "                self.opt.step() # step with optimizer\n",
    "            \n",
    "            # track accuracy through training\n",
    "            train_acc = torch.sum(torch.argmax(y, axis = 1) == y_train) /len(y_train)\n",
    "            test_acc = torch.sum(torch.argmax(y_pred, axis = 1) == y_test ) /len(y_test)\n",
    "            \n",
    "            wandb.log({'train loss': loss.detach().cpu().item(),\n",
    "                   #'test loss': loss_test.detach().cpu().item(),\n",
    "                   'train accuracy': train_acc.detach().cpu().item(),\n",
    "                   'test accuracy': test_acc.detach().cpu().item()\n",
    "                  })\n",
    "                "
   ]
  },
  {
   "cell_type": "code",
   "execution_count": 11,
   "metadata": {},
   "outputs": [],
   "source": [
    "xy_train = np.hstack((x_train.reshape(-1,784),y_train[:,None]))"
   ]
  },
  {
   "cell_type": "code",
   "execution_count": 12,
   "metadata": {},
   "outputs": [
    {
     "data": {
      "text/plain": [
       "(369600, 785)"
      ]
     },
     "execution_count": 12,
     "metadata": {},
     "output_type": "execute_result"
    }
   ],
   "source": [
    "xy_train.shape"
   ]
  },
  {
   "cell_type": "code",
   "execution_count": 13,
   "metadata": {},
   "outputs": [],
   "source": [
    "learner = cnn(conv_layers = [16,64], fc_layers = [784], padding = 1, device = 'cuda')"
   ]
  },
  {
   "cell_type": "code",
   "execution_count": 14,
   "metadata": {},
   "outputs": [
    {
     "data": {
      "text/plain": [
       "cnn(\n",
       "  (conv_hidden): Sequential()\n",
       "  (fc_hidden): Sequential()\n",
       "  (conv_net_input): Sequential(\n",
       "    (0): Conv2d(1, 16, kernel_size=(5, 5), stride=(2, 2), padding=(1, 1))\n",
       "    (1): BatchNorm2d(16, eps=1e-05, momentum=0.1, affine=True, track_running_stats=True)\n",
       "    (2): ReLU()\n",
       "    (3): Dropout(p=0.2, inplace=False)\n",
       "  )\n",
       "  (conv_net_output): Sequential(\n",
       "    (0): Conv2d(16, 64, kernel_size=(5, 5), stride=(2, 2), padding=(1, 1))\n",
       "    (1): BatchNorm2d(64, eps=1e-05, momentum=0.1, affine=True, track_running_stats=True)\n",
       "    (2): ReLU()\n",
       "    (3): AdaptiveMaxPool2d(output_size=(7, 7))\n",
       "    (4): Dropout(p=0.2, inplace=False)\n",
       "  )\n",
       "  (fc_input): Sequential(\n",
       "    (0): Linear(in_features=3136, out_features=784, bias=True)\n",
       "    (1): ReLU()\n",
       "    (2): Dropout(p=0.2, inplace=False)\n",
       "  )\n",
       "  (fc_output): Sequential(\n",
       "    (0): Linear(in_features=784, out_features=10, bias=True)\n",
       "    (1): Softmax(dim=1)\n",
       "  )\n",
       "  (loss_fn): CrossEntropyLoss()\n",
       ")"
      ]
     },
     "execution_count": 14,
     "metadata": {},
     "output_type": "execute_result"
    }
   ],
   "source": [
    "learner"
   ]
  },
  {
   "cell_type": "code",
   "execution_count": 15,
   "metadata": {},
   "outputs": [
    {
     "name": "stderr",
     "output_type": "stream",
     "text": [
      "wandb: Currently logged in as: jacob-turner (use `wandb login --relogin` to force relogin)\n",
      "wandb: wandb version 0.12.9 is available!  To upgrade, please run:\n",
      "wandb:  $ pip install wandb --upgrade\n"
     ]
    },
    {
     "data": {
      "text/html": [
       "\n",
       "                Tracking run with wandb version 0.10.25<br/>\n",
       "                Syncing run <strong style=\"color:#cdcd00\">CNN__augment_dropout_BN_[16, 64]_[784]</strong> to <a href=\"https://wandb.ai\" target=\"_blank\">Weights & Biases</a> <a href=\"https://docs.wandb.com/integrations/jupyter.html\" target=\"_blank\">(Documentation)</a>.<br/>\n",
       "                Project page: <a href=\"https://wandb.ai/jacob-turner/digits%20with%20CNN\" target=\"_blank\">https://wandb.ai/jacob-turner/digits%20with%20CNN</a><br/>\n",
       "                Run page: <a href=\"https://wandb.ai/jacob-turner/digits%20with%20CNN/runs/1rq0vqpl\" target=\"_blank\">https://wandb.ai/jacob-turner/digits%20with%20CNN/runs/1rq0vqpl</a><br/>\n",
       "                Run data is saved locally in <code>C:\\Users\\jdetu\\Google Drive\\Career\\Resume\\2022\\Kaggle\\wandb\\run-20220130_174243-1rq0vqpl</code><br/><br/>\n",
       "            "
      ],
      "text/plain": [
       "<IPython.core.display.HTML object>"
      ]
     },
     "metadata": {},
     "output_type": "display_data"
    },
    {
     "name": "stderr",
     "output_type": "stream",
     "text": [
      "  0%|          | 0/100 [00:00<?, ?it/s]<ipython-input-10-d45029a377c0>:117: UserWarning: To copy construct from a tensor, it is recommended to use sourceTensor.clone().detach() or sourceTensor.clone().detach().requires_grad_(True), rather than torch.tensor(sourceTensor).\n",
      "  y_train = torch.tensor(y_train, dtype=torch.long, device=self.device)\n",
      "100%|██████████| 100/100 [18:26<00:00, 11.07s/it]\n"
     ]
    }
   ],
   "source": [
    "learner.train(xy_train,x_test,y_test, epochs = 100, batch_size = 1000, name = 'CNN__augment_dropout_BN')"
   ]
  },
  {
   "cell_type": "code",
   "execution_count": null,
   "metadata": {},
   "outputs": [],
   "source": []
  },
  {
   "cell_type": "code",
   "execution_count": 44,
   "metadata": {},
   "outputs": [],
   "source": [
    "y_pred = learner.forward(x_test.reshape(-1,1,28,28)).cpu().detach().numpy()"
   ]
  },
  {
   "cell_type": "code",
   "execution_count": 45,
   "metadata": {},
   "outputs": [],
   "source": [
    "test_acc = np.sum(np.argmax(y_pred, axis = 1) == y_test) /len(y_test)"
   ]
  },
  {
   "cell_type": "code",
   "execution_count": 46,
   "metadata": {},
   "outputs": [
    {
     "data": {
      "text/plain": [
       "0.9983333333333333"
      ]
     },
     "execution_count": 46,
     "metadata": {},
     "output_type": "execute_result"
    }
   ],
   "source": [
    "test_acc"
   ]
  },
  {
   "cell_type": "code",
   "execution_count": null,
   "metadata": {},
   "outputs": [],
   "source": [
    "torch.save(learner.state_dict(), f'models/CNN_16_64_784_{str(test_acc)[:6]}_final_b4_augmentation_{np.random.rand()}_.pth')"
   ]
  },
  {
   "cell_type": "code",
   "execution_count": 47,
   "metadata": {},
   "outputs": [
    {
     "data": {
      "text/plain": [
       "<All keys matched successfully>"
      ]
     },
     "execution_count": 47,
     "metadata": {},
     "output_type": "execute_result"
    }
   ],
   "source": [
    "learner.load_state_dict(torch.load('models/CNN_16_64_784_0.9951_final_b4_augmentation_0.9475824963194168_.pth'))"
   ]
  },
  {
   "cell_type": "code",
   "execution_count": 48,
   "metadata": {},
   "outputs": [],
   "source": [
    "test_input = normalize(test).reshape(-1,1,28,28)"
   ]
  },
  {
   "cell_type": "code",
   "execution_count": 49,
   "metadata": {},
   "outputs": [],
   "source": [
    "yt_pred = learner.forward(test_input)"
   ]
  },
  {
   "cell_type": "code",
   "execution_count": 50,
   "metadata": {},
   "outputs": [
    {
     "data": {
      "text/plain": [
       "torch.Size([28000, 10])"
      ]
     },
     "execution_count": 50,
     "metadata": {},
     "output_type": "execute_result"
    }
   ],
   "source": [
    "yt_pred.shape"
   ]
  },
  {
   "cell_type": "code",
   "execution_count": 51,
   "metadata": {},
   "outputs": [],
   "source": [
    "yt_pred_final = np.argmax(yt_pred.cpu().detach().numpy(), axis = 1)"
   ]
  },
  {
   "cell_type": "code",
   "execution_count": 53,
   "metadata": {},
   "outputs": [
    {
     "data": {
      "text/plain": [
       "<matplotlib.colorbar.Colorbar at 0x211f315fca0>"
      ]
     },
     "execution_count": 53,
     "metadata": {},
     "output_type": "execute_result"
    },
    {
     "data": {
      "image/png": "[encoded data removed]",
      "text/plain": [
       "<Figure size 432x288 with 2 Axes>"
      ]
     },
     "metadata": {
      "needs_background": "light"
     },
     "output_type": "display_data"
    }
   ],
   "source": [
    "i = 18001\n",
    "plt.title(str(yt_pred_final[i]))\n",
    "\n",
    "plt.imshow(np.array(test.iloc[i,0:]).reshape(28,28))\n",
    "plt.colorbar()"
   ]
  },
  {
   "cell_type": "code",
   "execution_count": null,
   "metadata": {},
   "outputs": [],
   "source": []
  },
  {
   "cell_type": "code",
   "execution_count": null,
   "metadata": {},
   "outputs": [],
   "source": [
    "import time\n",
    "for i in range(1000,2000):\n",
    "    plt.title(f'predicted: {yt_pred_final[i]}', size = 50)\n",
    "    plt.imshow(np.array(test.iloc[i,0:]).reshape(28,28))\n",
    "    plt.show()\n",
    "    clear_output(wait =True)\n",
    "    time.sleep(1.2)"
   ]
  },
  {
   "cell_type": "code",
   "execution_count": null,
   "metadata": {},
   "outputs": [],
   "source": [
    "#train two nns have them check eachother on the final test set: report conflicting results"
   ]
  },
  {
   "cell_type": "code",
   "execution_count": null,
   "metadata": {},
   "outputs": [],
   "source": [
    "yt_pred_final"
   ]
  },
  {
   "cell_type": "code",
   "execution_count": null,
   "metadata": {},
   "outputs": [],
   "source": []
  },
  {
   "cell_type": "code",
   "execution_count": null,
   "metadata": {},
   "outputs": [],
   "source": []
  },
  {
   "cell_type": "code",
   "execution_count": null,
   "metadata": {},
   "outputs": [],
   "source": [
    "#augmentation\n",
    "#ensemble\n",
    "#save model at highest test accuracy > 99%\n",
    "#xavier normal initialization"
   ]
  },
  {
   "cell_type": "code",
   "execution_count": null,
   "metadata": {},
   "outputs": [],
   "source": []
  },
  {
   "cell_type": "code",
   "execution_count": null,
   "metadata": {},
   "outputs": [],
   "source": []
  }
 ],
 "metadata": {
  "kernelspec": {
   "display_name": "Python 3",
   "language": "python",
   "name": "python3"
  },
  "language_info": {
   "codemirror_mode": {
    "name": "ipython",
    "version": 3
   },
   "file_extension": ".py",
   "mimetype": "text/x-python",
   "name": "python",
   "nbconvert_exporter": "python",
   "pygments_lexer": "ipython3",
   "version": "3.8.3"
  }
 },
 "nbformat": 4,
 "nbformat_minor": 4
}
